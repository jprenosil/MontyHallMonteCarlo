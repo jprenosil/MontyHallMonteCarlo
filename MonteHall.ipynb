{
  "nbformat": 4,
  "nbformat_minor": 0,
  "metadata": {
    "colab": {
      "name": "MonteHall.ipynb",
      "version": "0.3.2",
      "provenance": [],
      "include_colab_link": true
    },
    "kernelspec": {
      "name": "python3",
      "display_name": "Python 3"
    }
  },
  "cells": [
    {
      "cell_type": "markdown",
      "metadata": {
        "id": "view-in-github",
        "colab_type": "text"
      },
      "source": [
        "<a href=\"https://colab.research.google.com/github/jprenosil/MontyHallMonteCarlo/blob/master/MonteHall.ipynb\" target=\"_parent\"><img src=\"https://colab.research.google.com/assets/colab-badge.svg\" alt=\"Open In Colab\"/></a>"
      ]
    },
    {
      "metadata": {
        "id": "4hVBKolBjgre",
        "colab_type": "code",
        "colab": {
          "base_uri": "https://localhost:8080/",
          "height": 294
        },
        "outputId": "2a40c06d-f53e-4bc9-ffb3-a869b70c4740"
      },
      "cell_type": "code",
      "source": [
        "from random import *\n",
        "import numpy\n",
        "import matplotlib.pyplot as plt\n",
        "\n",
        "\n",
        "guesses = 0\n",
        "wins = 0\n",
        "losses = 0\n",
        "\n",
        "for i in range(500):\n",
        "  doors = ['Door 1', 'Door 2', 'Door 3']\n",
        "  guesses += 1\n",
        "  winning_door = numpy.random.choice(doors)\n",
        "  guessed_door = numpy.random.choice(doors)\n",
        "  if winning_door == guessed_door:\n",
        "    wins += 1\n",
        "  else:\n",
        "    losses += 1\n",
        "\n",
        "names = ['losses','wins']\n",
        "values = [losses,wins]\n",
        "\n",
        "plt.bar(names,values)\n",
        "plt.suptitle('Monty Hall Wins and Losses')\n",
        "plt.show()\n",
        "  "
      ],
      "execution_count": 75,
      "outputs": [
        {
          "output_type": "display_data",
          "data": {
            "image/png": "[encoded data removed]",
            "text/plain": [
              "<Figure size 432x288 with 1 Axes>"
            ]
          },
          "metadata": {
            "tags": []
          }
        }
      ]
    },
    {
      "metadata": {
        "id": "1V8JpF7SpsiW",
        "colab_type": "code",
        "colab": {
          "base_uri": "https://localhost:8080/",
          "height": 294
        },
        "outputId": "2240335a-76e2-4859-9b81-d2a2a8771866"
      },
      "cell_type": "code",
      "source": [
        "guesses = 0\n",
        "guessed_wins = 0\n",
        "changed_wins = 0\n",
        "\n",
        "for i in range(500):\n",
        "  doors = ['Door 1', 'Door 2', 'Door 3']\n",
        "  guesses += 1\n",
        "  winning_door = numpy.random.choice(doors)\n",
        "  guessed_door = numpy.random.choice(doors)\n",
        "  doors.remove(winning_door)\n",
        "  if guessed_door in doors:\n",
        "    doors.remove(guessed_door)\n",
        "  open_door = numpy.random.choice(doors)\n",
        "  doors = ['Door 1', 'Door 2', 'Door 3']\n",
        "  doors.remove(open_door)\n",
        "  doors.remove(guessed_door)\n",
        "  new_guess = numpy.random.choice(doors)\n",
        "  if winning_door == new_guess:\n",
        "    changed_wins += 1\n",
        "  elif winning_door == guessed_door:\n",
        "    guessed_wins += 1\n",
        "\n",
        "\n",
        "names = ['First Guess','New Guess']\n",
        "values = [guessed_wins,changed_wins]\n",
        "\n",
        "plt.bar(names,values)\n",
        "plt.suptitle('Monty Hall Wins and Losses')\n",
        "plt.show()\n"
      ],
      "execution_count": 84,
      "outputs": [
        {
          "output_type": "display_data",
          "data": {
            "image/png": "[encoded data removed]",
            "text/plain": [
              "<Figure size 432x288 with 1 Axes>"
            ]
          },
          "metadata": {
            "tags": []
          }
        }
      ]
    },
    {
      "metadata": {
        "id": "G23s6ScixArW",
        "colab_type": "code",
        "colab": {
          "base_uri": "https://localhost:8080/",
          "height": 265
        },
        "outputId": "947b456a-7d11-4212-859f-c75a67e40298"
      },
      "cell_type": "code",
      "source": [
        "import matplotlib.pylab as plt\n",
        "import pandas as pd\n",
        "import numpy as np\n",
        "import time\n",
        "from IPython import display\n",
        "%matplotlib inline\n",
        "\n",
        "guesses = 0\n",
        "guessed_wins = 0\n",
        "changed_wins = 0     \n",
        "\n",
        "for i in range(50):\n",
        "  doors = ['Door 1', 'Door 2', 'Door 3']\n",
        "  guesses += 1\n",
        "  winning_door = numpy.random.choice(doors)\n",
        "  guessed_door = numpy.random.choice(doors)\n",
        "  doors.remove(winning_door)\n",
        "  if guessed_door in doors:\n",
        "    doors.remove(guessed_door)\n",
        "  open_door = numpy.random.choice(doors)\n",
        "  doors = ['Door 1', 'Door 2', 'Door 3']\n",
        "  doors.remove(open_door)\n",
        "  doors.remove(guessed_door)\n",
        "  new_guess = numpy.random.choice(doors)\n",
        "  if winning_door == new_guess:\n",
        "    changed_wins += 1\n",
        "  elif winning_door == guessed_door:\n",
        "    guessed_wins += 1\n",
        "  names = ['First Guess','New Guess']\n",
        "  values = [guessed_wins,changed_wins]\n",
        "  plt.bar(names,values, facecolor='g')\n",
        "  display.display(plt.gcf())\n",
        "  display.clear_output(wait=True)\n",
        "  time.sleep(0.5)"
      ],
      "execution_count": 90,
      "outputs": [
        {
          "output_type": "display_data",
          "data": {
            "image/png": "[encoded data removed]",
            "text/plain": [
              "<Figure size 432x288 with 1 Axes>"
            ]
          },
          "metadata": {
            "tags": []
          }
        }
      ]
    }
  ]
}